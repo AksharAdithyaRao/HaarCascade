{
 "cells": [
  {
   "cell_type": "markdown",
   "metadata": {},
   "source": [
    "# **Face Detection using Haar Cascade**"
   ]
  },
  {
   "cell_type": "code",
   "execution_count": 2,
   "metadata": {},
   "outputs": [],
   "source": [
    "import cv2\n",
    "photo = cv2.VideoCapture(0)\n",
    "faceClassifer = cv2.CascadeClassifier(cv2.data.haarcascades + \"haarcascade_frontalface_default.xml\")\n",
    "while True:\n",
    "    status, img = photo.read()\n",
    "    faceCoord = faceClassifer.detectMultiScale(img)\n",
    "\n",
    "    if len(faceCoord) == 1:\n",
    "        x = faceCoord[0][0]\n",
    "        y = faceCoord[0][1]\n",
    "        w = faceCoord[0][2]\n",
    "        h = faceCoord[0][3]\n",
    "\n",
    "        #cv2.rectangle(img, (x, y), (x+w, y+h), [0, 255, 0], 1)\n",
    "        img = img[y:y+h, x:x+w]\n",
    "\n",
    "    cv2.imshow(\"Face\", img)\n",
    "\n",
    "    if cv2.waitKey(1) & 0xFF == ord('c'):\n",
    "        break\n",
    "\n",
    "\n",
    "photo.release()\n",
    "cv2.destroyAllWindows()\n"
   ]
  },
  {
   "cell_type": "markdown",
   "metadata": {},
   "source": [
    "# **Bulrring The Face using Haar Cascade**"
   ]
  },
  {
   "cell_type": "code",
   "execution_count": 3,
   "metadata": {},
   "outputs": [],
   "source": [
    "import cv2\n",
    "photo = cv2.VideoCapture(0)\n",
    "faceClassifer = cv2.CascadeClassifier(cv2.data.haarcascades + \"haarcascade_frontalface_default.xml\")\n",
    "\n",
    "def blurImage(img, faces):\n",
    "    result_image = img.copy()\n",
    "    #result_image = cv2.GaussianBlur(result_image, (21, 21), 0)\n",
    "    for(x, y, w, h) in faces:\n",
    "        face = result_image[y:y+h, x:x+w]\n",
    "        face = cv2.GaussianBlur(face, (0, 0), 30)\n",
    "        result_image[y:y+h, x:x+w] = face\n",
    "    return result_image\n",
    "\n",
    "while True:\n",
    "    status, img = photo.read()\n",
    "    gray = cv2.cvtColor(img, cv2.COLOR_BGR2GRAY)\n",
    "    faceCoord = faceClassifer.detectMultiScale(gray, scaleFactor=1.1, minNeighbors=5, minSize=(30, 30))\n",
    "    blurred = blurImage(img, faceCoord)\n",
    "\n",
    "    cv2.imshow('Blur', blurred)\n",
    "    if cv2.waitKey(1) & 0xFF == ord('c'):\n",
    "        break\n",
    "\n",
    "photo.release()\n",
    "cv2.destroyAllWindows()"
   ]
  },
  {
   "cell_type": "markdown",
   "metadata": {},
   "source": [
    "# **Detecting Faces along with the Distance from Camera**"
   ]
  },
  {
   "cell_type": "code",
   "execution_count": 6,
   "metadata": {},
   "outputs": [],
   "source": [
    "import cv2\n",
    "import math\n",
    "\n",
    "photo = cv2.VideoCapture(0)\n",
    "faceClassifer = cv2.CascadeClassifier(cv2.data.haarcascades + \"haarcascade_frontalface_default.xml\")\n",
    "KNOWN_FACE_WIDTH = 15\n",
    "FOCAL_LENGTH = 600\n",
    "\n",
    "def findDistance(face_width):\n",
    "    dist = (KNOWN_FACE_WIDTH * FOCAL_LENGTH) / face_width\n",
    "    return dist\n",
    "\n",
    "while True:\n",
    "    status, img = photo.read()\n",
    "    gray = cv2.cvtColor(img, cv2.COLOR_BGR2GRAY)\n",
    "    faceCoord = faceClassifer.detectMultiScale(gray, scaleFactor=1.1, minNeighbors=5, minSize=(30, 30))\n",
    "\n",
    "    for(x, y, w, h) in faceCoord:\n",
    "        dist = findDistance(w)\n",
    "        cv2.rectangle(img, (x, y), (x+w, y+h), (0, 255, 0), 2)\n",
    "        cv2.putText(img, f\"Distance: {dist:.2f} cm\", (x, y-10), cv2.FONT_HERSHEY_SIMPLEX, 0.7, (0, 255, 0), 1)\n",
    "    \n",
    "    cv2.imshow('Face Distance', img)\n",
    "    if cv2.waitKey(1) & 0xFF == ord('c'):\n",
    "        break\n",
    "\n",
    "photo.release()\n",
    "cv2.destroyAllWindows()"
   ]
  },
  {
   "cell_type": "markdown",
   "metadata": {},
   "source": [
    "# **Adding Accessories**"
   ]
  },
  {
   "cell_type": "code",
   "execution_count": 7,
   "metadata": {},
   "outputs": [],
   "source": [
    "import cv2\n",
    "import numpy as np\n",
    "\n",
    "photo = cv2.VideoCapture(0)\n",
    "faceClassifer = cv2.CascadeClassifier(cv2.data.haarcascades + \"haarcascade_frontalface_default.xml\")\n",
    "eyeClassifier = cv2.CascadeClassifier(cv2.data.haarcascades + 'haarcascade_eye.xml')\n",
    "glasses_img = cv2.imread(\"glasses.png\", cv2.IMREAD_UNCHANGED)\n",
    "\n",
    "def placeGlasses(image, x, y, w, h):\n",
    "\n",
    "    roi = image[y:y+h, x:x+w]\n",
    "    eyes = eyeClassifier.detectMultiScale(roi)\n",
    "\n",
    "    if len(eyes) >= 2:\n",
    "        eyes = sorted(eyes, key=lambda x: x[0])\n",
    "        e1_x, e1_y, e1_w, e1_h = eyes[0]\n",
    "        e2_x, e2_y, e2_w, e2_h = eyes[1]\n",
    "        e1_c = (x + e1_x + e1_w // 2, y + e1_y + e1_h // 2)\n",
    "        e2_c = (x + e2_x + e2_w // 2, y + e2_y + e2_h // 2)\n",
    "\n",
    "        eyes_distance = e2_c[0] - e1_c[0]\n",
    "        glasses_width = int(1.5 * eyes_distance)\n",
    "        glasses_height = int(glasses_width * glasses_img.shape[0] / glasses_img.shape[1])\n",
    "\n",
    "        glasses_x = e1_c[0] - int(0.25 * eyes_distance)\n",
    "        glasses_y = e1_c[1] - int(0.4 * glasses_height)\n",
    "\n",
    "        glasses_resized = cv2.resize(glasses_img, (glasses_width, glasses_height))\n",
    "\n",
    "        mask = glasses_resized[:, :, 3]\n",
    "        mask_inv = cv2.bitwise_not(mask)\n",
    "\n",
    "        glasses_colored = glasses_resized[:, :, 0:3]\n",
    "\n",
    "        roi = img[glasses_y:glasses_y + glasses_height, glasses_x:glasses_x + glasses_width]\n",
    "        roi_bg = cv2.bitwise_and(roi, roi, mask=mask_inv)\n",
    "        roi_fg = cv2.bitwise_and(glasses_colored, glasses_colored, mask=mask)\n",
    "\n",
    "        dst = cv2.add(roi_bg, roi_fg)\n",
    "        img[glasses_y:glasses_y + glasses_height, glasses_x:glasses_x + glasses_width] =  dst\n",
    "\n",
    "\n",
    "\n",
    "while True:\n",
    "    status, img = photo.read()\n",
    "    if not status:\n",
    "        break\n",
    "    gray = cv2.cvtColor(img, cv2.COLOR_BGR2GRAY)\n",
    "\n",
    "    faces = faceClassifer.detectMultiScale(gray, scaleFactor=1.3, minNeighbors=5)\n",
    "\n",
    "    for(x, y, w, h) in faces:\n",
    "        placeGlasses(img, x, y, w, h)\n",
    "\n",
    "    cv2.imshow(\"Glasses\", img)\n",
    "    if cv2.waitKey(1) & 0xFF == ord('c'):\n",
    "        break\n",
    "\n",
    "photo.release()\n",
    "cv2.destroyAllWindows()\n",
    "\n",
    "       \n",
    "\n"
   ]
  }
 ],
 "metadata": {
  "kernelspec": {
   "display_name": "base",
   "language": "python",
   "name": "python3"
  },
  "language_info": {
   "codemirror_mode": {
    "name": "ipython",
    "version": 3
   },
   "file_extension": ".py",
   "mimetype": "text/x-python",
   "name": "python",
   "nbconvert_exporter": "python",
   "pygments_lexer": "ipython3",
   "version": "3.10.9"
  },
  "orig_nbformat": 4
 },
 "nbformat": 4,
 "nbformat_minor": 2
}
